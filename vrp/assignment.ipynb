{
 "cells": [
  {
   "cell_type": "code",
   "execution_count": null,
   "metadata": {},
   "outputs": [],
   "source": [
    "# NOTE currently, this notebook assumes python 3\n",
    "import os\n",
    "from solver import parse_input, trivial_solver\n",
    "\n",
    "current_directory = os.getcwd()\n",
    "file_name = '_coursera'  \n",
    "file_path = os.path.join(current_directory, file_name)\n",
    "\n",
    "global file_contents\n",
    "file_contents = [] \n",
    "with open(file_path, 'r') as file:\n",
    "    file_contents = [line.split(',')[1].strip() for line in file.readlines()[2:]]\n"
   ]
  },
  {
   "cell_type": "code",
   "execution_count": null,
   "metadata": {},
   "outputs": [],
   "source": [
    "def load_problem(n):\n",
    "  \"\"\" Note: n is the part of the assignment (part 1 .. part m) \"\"\"\n",
    "  try:\n",
    "    assert(n > 0 and n < len(file_contents))\n",
    "  except:\n",
    "    return\n",
    "  with open(file_contents[n - 1]) as source:\n",
    "    return source.read()\n"
   ]
  },
  {
   "cell_type": "markdown",
   "metadata": {},
   "source": [
    "### note:\n",
    "at this point you can directly import  `solve_it` from _solver.py_ and call it withe the result from load_problem, such as:\n",
    "\n",
    "```py\n",
    "from solver import solve_it\n",
    "\n",
    "input_data = load_problem(1)\n",
    "solve_it(input_data)\n",
    "```\n",
    "\n",
    "Or, you can implement it in this notebook and use the last cell provided to make a python script which you can import in the solver."
   ]
  },
  {
   "cell_type": "code",
   "execution_count": null,
   "metadata": {},
   "outputs": [],
   "source": [
    "# TODO implement you solver -- you can skip this step for now to see a trivial solution"
   ]
  },
  {
   "cell_type": "code",
   "execution_count": null,
   "metadata": {},
   "outputs": [],
   "source": [
    "input_data = load_problem(1)\n",
    "customers, customer_count, vehicle_count, vehicle_capacity, depot = parse_input(input_data)\n",
    "\n",
    "# TODO replace with your solver\n",
    "obj, vehicle_tours = trivial_solver(customers, customer_count, vehicle_count, vehicle_capacity, depot)\n",
    "output_data = '%.2f' % obj + ' ' + str(0) + '\\n'\n",
    "for v in range(0, vehicle_count):\n",
    "    output_data += str(depot.index) + ' ' + ' '.join([str(customer.index) for customer in vehicle_tours[v]]) + ' ' + str(depot.index) + '\\n'\n",
    "\n",
    "print(output_data)"
   ]
  },
  {
   "cell_type": "code",
   "execution_count": null,
   "metadata": {},
   "outputs": [],
   "source": [
    "\"\"\" \n",
    "TODO when ready to submit, you can uncomment the below line and run this cell, \n",
    "then follow the instructions already provided.\n",
    "\"\"\"\n",
    "# !jupyter nbconvert --to script assignment.ipynb"
   ]
  }
 ],
 "metadata": {
  "kernelspec": {
   "display_name": ".env",
   "language": "python",
   "name": "python3"
  },
  "language_info": {
   "codemirror_mode": {
    "name": "ipython",
    "version": 3
   },
   "file_extension": ".py",
   "mimetype": "text/x-python",
   "name": "python",
   "nbconvert_exporter": "python",
   "pygments_lexer": "ipython3"
  }
 },
 "nbformat": 4,
 "nbformat_minor": 2
}
